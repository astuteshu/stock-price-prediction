{
  "nbformat": 4,
  "nbformat_minor": 0,
  "metadata": {
    "colab": {
      "name": "stock price prediction",
      "provenance": [],
      "collapsed_sections": [],
      "include_colab_link": true
    },
    "kernelspec": {
      "display_name": "Python 3",
      "name": "python3"
    }
  },
  "cells": [
    {
      "cell_type": "markdown",
      "metadata": {
        "id": "view-in-github",
        "colab_type": "text"
      },
      "source": [
        "<a href=\"https://colab.research.google.com/github/astuteshu/stock-price-prediction/blob/master/stock_price_prediction.ipynb\" target=\"_parent\"><img src=\"https://colab.research.google.com/assets/colab-badge.svg\" alt=\"Open In Colab\"/></a>"
      ]
    },
    {
      "cell_type": "code",
      "metadata": {
        "id": "PryNdiDQa7ZN",
        "colab_type": "code",
        "colab": {}
      },
      "source": [
        "#using LSTM to predict the closing stock price of a corporation by observing the past 60 days stock prize "
      ],
      "execution_count": null,
      "outputs": []
    },
    {
      "cell_type": "code",
      "metadata": {
        "id": "MkHhvoK3bfYm",
        "colab_type": "code",
        "colab": {}
      },
      "source": [
        " #import libraries\n",
        " import math\n",
        " import pandas_datareader as web\n",
        " import numpy as np\n",
        " import pandas as pd\n",
        " from sklearn.preprocessing import MinMaxScaler\n",
        " from keras.models import Sequential\n",
        " from keras.layers import Dense,LSTM\n",
        " import matplotlib.pyplot as plt\n",
        " plt.style.use('fivethirtyeight')"
      ],
      "execution_count": null,
      "outputs": []
    },
    {
      "cell_type": "code",
      "metadata": {
        "id": "lUe32H0Id1uZ",
        "colab_type": "code",
        "colab": {}
      },
      "source": [
        "#get stock prices\n",
        "df = web.DataReader('AAPL',data_source='yahoo',start='2012-01-01',end='2019-12-17')\n",
        "#show data\n",
        "df\n",
        "df.shape"
      ],
      "execution_count": null,
      "outputs": []
    },
    {
      "cell_type": "code",
      "metadata": {
        "id": "wFe1nn7hehxW",
        "colab_type": "code",
        "colab": {}
      },
      "source": [
        "#plot the closing price data\n",
        "plt.figure(figsize=(16,8))\n",
        "plt.title('closing price history')\n",
        "plt.plot(df['Close'])\n",
        "plt.xlabel('date',fontsize=18)\n",
        "plt.ylabel('closing price in $',fontsize=18)\n",
        "plt.show()"
      ],
      "execution_count": null,
      "outputs": []
    },
    {
      "cell_type": "code",
      "metadata": {
        "id": "lyelAOQGf56s",
        "colab_type": "code",
        "colab": {}
      },
      "source": [
        "#newdataframe with only closing price\n",
        "data=df.filter(['Close'])\n",
        "#convert dataframe to numpy array\n",
        "dataset=data.values\n",
        "#get the number of rows to train the model on\n",
        "training_data_len=math.ceil(len(dataset)*.8)#as we want to train the data only on ceil of 80% of the dataset\n",
        "training_data_len#number of rows"
      ],
      "execution_count": null,
      "outputs": []
    },
    {
      "cell_type": "code",
      "metadata": {
        "id": "jVFtde7ghGDK",
        "colab_type": "code",
        "colab": {}
      },
      "source": [
        "#scale the data\n",
        "scaler = MinMaxScaler(feature_range=(0,1))\n",
        "scaled_data = scaler.fit_transform(dataset)\n",
        "\n",
        "scaled_data"
      ],
      "execution_count": null,
      "outputs": []
    },
    {
      "cell_type": "code",
      "metadata": {
        "id": "vhCL4KQ18cR4",
        "colab_type": "code",
        "colab": {}
      },
      "source": [
        "  #create the training dataset\n",
        "  #create scaled training data set\n",
        "  train_data= scaled_data[0:training_data_len,:]\n",
        "  #split the data into x_train and y_train datasets\n",
        "  x_train=[]    \n",
        "  y_train=[]\n",
        "  for i in range(60,len(train_data)):\n",
        "    x_train.append(train_data[i-60:i,0])\n",
        "    y_train.append(train_data[i,0])\n",
        "    if i<=61:\n",
        "      print(x_train)\n",
        "      print(y_train)\n",
        "      print()"
      ],
      "execution_count": null,
      "outputs": []
    },
    {
      "cell_type": "code",
      "metadata": {
        "id": "HeQRq7ns-udM",
        "colab_type": "code",
        "colab": {}
      },
      "source": [
        "#convert x_train & y_train to numpy array to use lstm on them\n",
        "x_train, y_train = np.array(x_train), np.array(y_train) "
      ],
      "execution_count": null,
      "outputs": []
    },
    {
      "cell_type": "code",
      "metadata": {
        "id": "DcjVgeUNAwmY",
        "colab_type": "code",
        "colab": {}
      },
      "source": [
        " #reshape the x_train data\n",
        " #why as lstm expects dataset to be 3d in terms of no of timesteps no of samples no of features\n",
        " # and currently dataset is 2d\n",
        " # in reshaped 3d dataset we have no.of samples as no.of rows of 2d array\n",
        " # no. of timesteps is no. of columns \n",
        " #no. of features is closing price i.e 1\n",
        "x_train = np.reshape(x_train,(x_train.shape[0],x_train.shape[1],1)) \n",
        "x_train.shape"
      ],
      "execution_count": null,
      "outputs": []
    },
    {
      "cell_type": "code",
      "metadata": {
        "id": "_nJuiI7oDd-y",
        "colab_type": "code",
        "colab": {}
      },
      "source": [
        " #build lstm model\n",
        "model =Sequential()\n",
        "model.add(LSTM(50,return_sequences=True,input_shape=(x_train.shape[1],1)))\n",
        "model.add(LSTM(50,return_sequences=False))\n",
        "model.add(Dense(25))\n",
        "model.add(Dense(1))\n",
        "\n"
      ],
      "execution_count": null,
      "outputs": []
    },
    {
      "cell_type": "code",
      "metadata": {
        "id": "Bh0itHd9EhN7",
        "colab_type": "code",
        "colab": {}
      },
      "source": [
        "#compile the model\n",
        "model.compile(optimizer='adam',loss='mean_squared_error')\n"
      ],
      "execution_count": null,
      "outputs": []
    },
    {
      "cell_type": "code",
      "metadata": {
        "id": "MTxQ4GiOExeU",
        "colab_type": "code",
        "colab": {}
      },
      "source": [
        " #train the model\n",
        "model.fit(x_train, y_train, batch_size=1, epochs=1) "
      ],
      "execution_count": null,
      "outputs": []
    },
    {
      "cell_type": "code",
      "metadata": {
        "id": "H7HAJXOzGPeq",
        "colab_type": "code",
        "colab": {}
      },
      "source": [
        "#create testing dataset\n",
        "#create new array having scaled values from idx 1543 to 2003\n",
        "test_data = scaled_data[training_data_len-60:,:]\n",
        "#create datasets\n",
        "x_test = []\n",
        "y_test = dataset[training_data_len:,:]\n",
        "for i in range(60,len(test_data)):\n",
        "  x_test.append(test_data[i-60:i,0])\n",
        "  \n",
        "   "
      ],
      "execution_count": null,
      "outputs": []
    },
    {
      "cell_type": "code",
      "metadata": {
        "id": "MGF9j6EdHQdz",
        "colab_type": "code",
        "colab": {}
      },
      "source": [
        "#convert data to numpy array\n",
        "x_test = np.array(x_test)"
      ],
      "execution_count": null,
      "outputs": []
    },
    {
      "cell_type": "code",
      "metadata": {
        "id": "AxFZwBdAHbNJ",
        "colab_type": "code",
        "colab": {}
      },
      "source": [
        "#reshape data\n",
        "x_test = np.reshape(x_test,(x_test.shape[0], x_test.shape[1],1))"
      ],
      "execution_count": null,
      "outputs": []
    },
    {
      "cell_type": "code",
      "metadata": {
        "id": "tJmwQcwcHqNe",
        "colab_type": "code",
        "colab": {}
      },
      "source": [
        "#get the models predicted price value for x_test dataset\n",
        "predictions = model.predict(x_test)\n",
        "predictions = scaler.inverse_transform(predictions)"
      ],
      "execution_count": null,
      "outputs": []
    },
    {
      "cell_type": "code",
      "metadata": {
        "id": "JO3OYAyvH_bG",
        "colab_type": "code",
        "colab": {}
      },
      "source": [
        "#evaluate model by getting root mean squared error\n",
        "#low value of rmse gives better fit\n",
        "rmse=np.sqrt(np.mean(predictions-y_test)**2)\n",
        "rmse"
      ],
      "execution_count": null,
      "outputs": []
    },
    {
      "cell_type": "code",
      "metadata": {
        "id": "AcT7YXcDIcEE",
        "colab_type": "code",
        "colab": {}
      },
      "source": [
        "#plot the data\n",
        "train =data[:training_data_len]\n",
        "valid =data[training_data_len:]\n",
        "valid['Predictions']=predictions\n",
        "#visualize\n",
        "plt.figure(figsize=(16,8))\n",
        "plt.title('model')\n",
        "plt.xlabel('date',fontsize=18)\n",
        "plt.ylabel('colsing price in $',fontsize=18)\n",
        "plt.plot(train['Close'])\n",
        "plt.plot(valid[['Close','Predictions']])\n",
        "plt.legend(['Train','Val','Predictions'],loc='lower right')\n",
        "plt.show()"
      ],
      "execution_count": null,
      "outputs": []
    },
    {
      "cell_type": "code",
      "metadata": {
        "id": "vbKIOP7IPa47",
        "colab_type": "code",
        "colab": {}
      },
      "source": [
        "#show the valid and predicted prices\n",
        "valid"
      ],
      "execution_count": null,
      "outputs": []
    },
    {
      "cell_type": "code",
      "metadata": {
        "id": "rnAv7hyvPsWN",
        "colab_type": "code",
        "colab": {}
      },
      "source": [
        "#to predict stock price for a given day\n",
        "apple_quote=web.DataReader('AAPL',data_source='yahoo',start='2012-01-01',end='2019-12-17')\n",
        "new_df=apple_quote.filter(['Close'])\n",
        "last_60_days=new_df[-60:].values\n",
        "last_60_days_scaled=scaler.transform(last_60_days)\n",
        "X_test=[]\n",
        "X_test.append(last_60_days_scaled)\n",
        "X_test=np.array(X_test)\n",
        "X_test=np.reshape(X_test,(X_test.shape[0],X_test.shape[1],1))\n",
        "pred_price=model.predict(X_test)\n",
        "pred_price=scaler.inverse_transform(pred_price)\n",
        "print(pred_price)"
      ],
      "execution_count": null,
      "outputs": []
    },
    {
      "cell_type": "code",
      "metadata": {
        "id": "JRET3SI1RrQj",
        "colab_type": "code",
        "colab": {}
      },
      "source": [
        "apple_quote_2=web.DataReader('AAPL',data_source='yahoo',start='2019-12-18',end='2019-12-18' )\n",
        "print(apple_quote_2['Close'])"
      ],
      "execution_count": null,
      "outputs": []
    }
  ]
}